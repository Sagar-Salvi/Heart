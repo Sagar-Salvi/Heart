{
  "nbformat": 4,
  "nbformat_minor": 0,
  "metadata": {
    "colab": {
      "provenance": []
    },
    "kernelspec": {
      "name": "python3",
      "display_name": "Python 3"
    },
    "language_info": {
      "name": "python"
    }
  },
  "cells": [
    {
      "cell_type": "code",
      "execution_count": 1,
      "metadata": {
        "colab": {
          "base_uri": "https://localhost:8080/"
        },
        "id": "qmU1RIZfbdv8",
        "outputId": "cbec9976-8227-45f0-f1c2-a6fcc8df7e74"
      },
      "outputs": [
        {
          "output_type": "stream",
          "name": "stdout",
          "text": [
            "Looking in indexes: https://pypi.org/simple, https://us-python.pkg.dev/colab-wheels/public/simple/\n",
            "Collecting pyspark\n",
            "  Downloading pyspark-3.3.2.tar.gz (281.4 MB)\n",
            "\u001b[2K     \u001b[90m━━━━━━━━━━━━━━━━━━━━━━━━━━━━━━━━━━━━━━━\u001b[0m \u001b[32m281.4/281.4 MB\u001b[0m \u001b[31m4.0 MB/s\u001b[0m eta \u001b[36m0:00:00\u001b[0m\n",
            "\u001b[?25h  Preparing metadata (setup.py) ... \u001b[?25l\u001b[?25hdone\n",
            "Collecting py4j==0.10.9.5\n",
            "  Downloading py4j-0.10.9.5-py2.py3-none-any.whl (199 kB)\n",
            "\u001b[2K     \u001b[90m━━━━━━━━━━━━━━━━━━━━━━━━━━━━━━━━━━━━━━\u001b[0m \u001b[32m199.7/199.7 KB\u001b[0m \u001b[31m17.4 MB/s\u001b[0m eta \u001b[36m0:00:00\u001b[0m\n",
            "\u001b[?25hBuilding wheels for collected packages: pyspark\n",
            "  Building wheel for pyspark (setup.py) ... \u001b[?25l\u001b[?25hdone\n",
            "  Created wheel for pyspark: filename=pyspark-3.3.2-py2.py3-none-any.whl size=281824028 sha256=c8d07b069b80365b40fd95f876c5e957c4bbaa830299e3220d60feb20f383f69\n",
            "  Stored in directory: /root/.cache/pip/wheels/6c/e3/9b/0525ce8a69478916513509d43693511463c6468db0de237c86\n",
            "Successfully built pyspark\n",
            "Installing collected packages: py4j, pyspark\n",
            "  Attempting uninstall: py4j\n",
            "    Found existing installation: py4j 0.10.9.7\n",
            "    Uninstalling py4j-0.10.9.7:\n",
            "      Successfully uninstalled py4j-0.10.9.7\n",
            "Successfully installed py4j-0.10.9.5 pyspark-3.3.2\n"
          ]
        }
      ],
      "source": [
        "!pip install pyspark"
      ]
    },
    {
      "cell_type": "code",
      "source": [
        "!pip install findspark"
      ],
      "metadata": {
        "colab": {
          "base_uri": "https://localhost:8080/"
        },
        "id": "j4FYYlCSbjs2",
        "outputId": "ca60b3bd-ff18-4f12-987d-ced218596cda"
      },
      "execution_count": 2,
      "outputs": [
        {
          "output_type": "stream",
          "name": "stdout",
          "text": [
            "Looking in indexes: https://pypi.org/simple, https://us-python.pkg.dev/colab-wheels/public/simple/\n",
            "Collecting findspark\n",
            "  Downloading findspark-2.0.1-py2.py3-none-any.whl (4.4 kB)\n",
            "Installing collected packages: findspark\n",
            "Successfully installed findspark-2.0.1\n"
          ]
        }
      ]
    },
    {
      "cell_type": "markdown",
      "source": [
        "Importing Libaries"
      ],
      "metadata": {
        "id": "MvRO4P0ob8qp"
      }
    },
    {
      "cell_type": "code",
      "source": [
        "import pyspark\n",
        "import findspark\n",
        "findspark.init()\n",
        "\n",
        "from pyspark.sql import SparkSession\n",
        "import pyspark.sql.functions as F\n",
        "from pyspark.sql.functions import *"
      ],
      "metadata": {
        "id": "xjegiijHb7IQ"
      },
      "execution_count": 4,
      "outputs": []
    },
    {
      "cell_type": "markdown",
      "source": [
        "Creating Spark Session"
      ],
      "metadata": {
        "id": "-SzG8FybcFDV"
      }
    },
    {
      "cell_type": "code",
      "source": [
        "spark = SparkSession.builder.master(\"local\").appName(\"HeartDisease\").getOrCreate()"
      ],
      "metadata": {
        "id": "7eCIfBtSb_2t"
      },
      "execution_count": 5,
      "outputs": []
    },
    {
      "cell_type": "code",
      "source": [
        "spark"
      ],
      "metadata": {
        "colab": {
          "base_uri": "https://localhost:8080/",
          "height": 219
        },
        "id": "9weofmB7cHJk",
        "outputId": "e26fdd39-c42b-4f14-9152-efdca8148709"
      },
      "execution_count": 6,
      "outputs": [
        {
          "output_type": "execute_result",
          "data": {
            "text/plain": [
              "<pyspark.sql.session.SparkSession at 0x7fe105ea1e80>"
            ],
            "text/html": [
              "\n",
              "            <div>\n",
              "                <p><b>SparkSession - in-memory</b></p>\n",
              "                \n",
              "        <div>\n",
              "            <p><b>SparkContext</b></p>\n",
              "\n",
              "            <p><a href=\"http://f63e38cfa480:4040\">Spark UI</a></p>\n",
              "\n",
              "            <dl>\n",
              "              <dt>Version</dt>\n",
              "                <dd><code>v3.3.2</code></dd>\n",
              "              <dt>Master</dt>\n",
              "                <dd><code>local</code></dd>\n",
              "              <dt>AppName</dt>\n",
              "                <dd><code>HeartDisease</code></dd>\n",
              "            </dl>\n",
              "        </div>\n",
              "        \n",
              "            </div>\n",
              "        "
            ]
          },
          "metadata": {},
          "execution_count": 6
        }
      ]
    },
    {
      "cell_type": "markdown",
      "source": [
        "Loading Data into dataframe"
      ],
      "metadata": {
        "id": "sxBkmJkecL-H"
      }
    },
    {
      "cell_type": "code",
      "source": [
        "data = spark.read.csv(\"/content/heart.csv\",inferSchema=True, header=True)"
      ],
      "metadata": {
        "id": "n6tyjicUcLVy"
      },
      "execution_count": 7,
      "outputs": []
    },
    {
      "cell_type": "code",
      "source": [
        "data.show()"
      ],
      "metadata": {
        "colab": {
          "base_uri": "https://localhost:8080/"
        },
        "id": "XTj8dNR6cTzg",
        "outputId": "aef5dde5-e0a2-4007-c4f8-7ee3c92add05"
      },
      "execution_count": 8,
      "outputs": [
        {
          "output_type": "stream",
          "name": "stdout",
          "text": [
            "+---+------+-------------+---------+-----------+---------+----------+-----+--------------+-------+--------+------------+\n",
            "|Age|Gender|ChestPainType|RestingBP|Cholesterol|FastingBS|RestingECG|MaxHR|ExerciseAngina|Oldpeak|ST_Slope|HeartDisease|\n",
            "+---+------+-------------+---------+-----------+---------+----------+-----+--------------+-------+--------+------------+\n",
            "| 40|     M|          ATA|      140|        289|        0|    Normal|  172|             N|    0.0|      Up|           0|\n",
            "| 49|     F|          NAP|      160|        180|        0|    Normal|  156|             N|    1.0|    Flat|           1|\n",
            "| 37|     M|          ATA|      130|        283|        0|        ST|   98|             N|    0.0|      Up|           0|\n",
            "| 48|     F|          ASY|      138|        214|        0|    Normal|  108|             Y|    1.5|    Flat|           1|\n",
            "| 54|     M|          NAP|      150|        195|        0|    Normal|  122|             N|    0.0|      Up|           0|\n",
            "| 39|     M|          NAP|      120|        339|        0|    Normal|  170|             N|    0.0|      Up|           0|\n",
            "| 45|     F|          ATA|      130|        237|        0|    Normal|  170|             N|    0.0|      Up|           0|\n",
            "| 54|     M|          ATA|      110|        208|        0|    Normal|  142|             N|    0.0|      Up|           0|\n",
            "| 37|     M|          ASY|      140|        207|        0|    Normal|  130|             Y|    1.5|    Flat|           1|\n",
            "| 48|     F|          ATA|      120|        284|        0|    Normal|  120|             N|    0.0|      Up|           0|\n",
            "| 37|     F|          NAP|      130|        211|        0|    Normal|  142|             N|    0.0|      Up|           0|\n",
            "| 58|     M|          ATA|      136|        164|        0|        ST|   99|             Y|    2.0|    Flat|           1|\n",
            "| 39|     M|          ATA|      120|        204|        0|    Normal|  145|             N|    0.0|      Up|           0|\n",
            "| 49|     M|          ASY|      140|        234|        0|    Normal|  140|             Y|    1.0|    Flat|           1|\n",
            "| 42|     F|          NAP|      115|        211|        0|        ST|  137|             N|    0.0|      Up|           0|\n",
            "| 54|     F|          ATA|      120|        273|        0|    Normal|  150|             N|    1.5|    Flat|           0|\n",
            "| 38|     M|          ASY|      110|        196|        0|    Normal|  166|             N|    0.0|    Flat|           1|\n",
            "| 43|     F|          ATA|      120|        201|        0|    Normal|  165|             N|    0.0|      Up|           0|\n",
            "| 60|     M|          ASY|      100|        248|        0|    Normal|  125|             N|    1.0|    Flat|           1|\n",
            "| 36|     M|          ATA|      120|        267|        0|    Normal|  160|             N|    3.0|    Flat|           1|\n",
            "+---+------+-------------+---------+-----------+---------+----------+-----+--------------+-------+--------+------------+\n",
            "only showing top 20 rows\n",
            "\n"
          ]
        }
      ]
    },
    {
      "cell_type": "code",
      "source": [
        "data.printSchema()"
      ],
      "metadata": {
        "colab": {
          "base_uri": "https://localhost:8080/"
        },
        "id": "4jEcPtFrcYXs",
        "outputId": "baf29810-778a-4002-9ff3-e04c4cefacf5"
      },
      "execution_count": 9,
      "outputs": [
        {
          "output_type": "stream",
          "name": "stdout",
          "text": [
            "root\n",
            " |-- Age: integer (nullable = true)\n",
            " |-- Gender: string (nullable = true)\n",
            " |-- ChestPainType: string (nullable = true)\n",
            " |-- RestingBP: integer (nullable = true)\n",
            " |-- Cholesterol: integer (nullable = true)\n",
            " |-- FastingBS: integer (nullable = true)\n",
            " |-- RestingECG: string (nullable = true)\n",
            " |-- MaxHR: integer (nullable = true)\n",
            " |-- ExerciseAngina: string (nullable = true)\n",
            " |-- Oldpeak: double (nullable = true)\n",
            " |-- ST_Slope: string (nullable = true)\n",
            " |-- HeartDisease: integer (nullable = true)\n",
            "\n"
          ]
        }
      ]
    },
    {
      "cell_type": "code",
      "source": [
        "data = data.withColumn('Age', col('Age').astype('float'))\n",
        "data = data.withColumn('RestingBP', col('RestingBP').astype('float'))\n",
        "data = data.withColumn('Cholesterol', col('Cholesterol').astype('float'))\n",
        "data = data.withColumn('FastingBS', col('FastingBS').astype('float'))\n",
        "data = data.withColumn('MaxHR', col('MaxHR').astype('float'))\n",
        "data = data.withColumn('HeartDisease', col('HeartDisease').astype('float'))"
      ],
      "metadata": {
        "id": "SqFo0GRFcdfy"
      },
      "execution_count": 10,
      "outputs": []
    },
    {
      "cell_type": "code",
      "source": [
        "data.printSchema()"
      ],
      "metadata": {
        "colab": {
          "base_uri": "https://localhost:8080/"
        },
        "id": "yoRedquscfyt",
        "outputId": "0192ffde-a19c-4aa9-f8be-df792c022bd7"
      },
      "execution_count": 11,
      "outputs": [
        {
          "output_type": "stream",
          "name": "stdout",
          "text": [
            "root\n",
            " |-- Age: float (nullable = true)\n",
            " |-- Gender: string (nullable = true)\n",
            " |-- ChestPainType: string (nullable = true)\n",
            " |-- RestingBP: float (nullable = true)\n",
            " |-- Cholesterol: float (nullable = true)\n",
            " |-- FastingBS: float (nullable = true)\n",
            " |-- RestingECG: string (nullable = true)\n",
            " |-- MaxHR: float (nullable = true)\n",
            " |-- ExerciseAngina: string (nullable = true)\n",
            " |-- Oldpeak: double (nullable = true)\n",
            " |-- ST_Slope: string (nullable = true)\n",
            " |-- HeartDisease: float (nullable = true)\n",
            "\n"
          ]
        }
      ]
    },
    {
      "cell_type": "code",
      "source": [
        "data.show()"
      ],
      "metadata": {
        "colab": {
          "base_uri": "https://localhost:8080/"
        },
        "id": "2zUeGXDPchzq",
        "outputId": "c2a68354-3c48-4b99-f1f6-f4c2d5b33f88"
      },
      "execution_count": 12,
      "outputs": [
        {
          "output_type": "stream",
          "name": "stdout",
          "text": [
            "+----+------+-------------+---------+-----------+---------+----------+-----+--------------+-------+--------+------------+\n",
            "| Age|Gender|ChestPainType|RestingBP|Cholesterol|FastingBS|RestingECG|MaxHR|ExerciseAngina|Oldpeak|ST_Slope|HeartDisease|\n",
            "+----+------+-------------+---------+-----------+---------+----------+-----+--------------+-------+--------+------------+\n",
            "|40.0|     M|          ATA|    140.0|      289.0|      0.0|    Normal|172.0|             N|    0.0|      Up|         0.0|\n",
            "|49.0|     F|          NAP|    160.0|      180.0|      0.0|    Normal|156.0|             N|    1.0|    Flat|         1.0|\n",
            "|37.0|     M|          ATA|    130.0|      283.0|      0.0|        ST| 98.0|             N|    0.0|      Up|         0.0|\n",
            "|48.0|     F|          ASY|    138.0|      214.0|      0.0|    Normal|108.0|             Y|    1.5|    Flat|         1.0|\n",
            "|54.0|     M|          NAP|    150.0|      195.0|      0.0|    Normal|122.0|             N|    0.0|      Up|         0.0|\n",
            "|39.0|     M|          NAP|    120.0|      339.0|      0.0|    Normal|170.0|             N|    0.0|      Up|         0.0|\n",
            "|45.0|     F|          ATA|    130.0|      237.0|      0.0|    Normal|170.0|             N|    0.0|      Up|         0.0|\n",
            "|54.0|     M|          ATA|    110.0|      208.0|      0.0|    Normal|142.0|             N|    0.0|      Up|         0.0|\n",
            "|37.0|     M|          ASY|    140.0|      207.0|      0.0|    Normal|130.0|             Y|    1.5|    Flat|         1.0|\n",
            "|48.0|     F|          ATA|    120.0|      284.0|      0.0|    Normal|120.0|             N|    0.0|      Up|         0.0|\n",
            "|37.0|     F|          NAP|    130.0|      211.0|      0.0|    Normal|142.0|             N|    0.0|      Up|         0.0|\n",
            "|58.0|     M|          ATA|    136.0|      164.0|      0.0|        ST| 99.0|             Y|    2.0|    Flat|         1.0|\n",
            "|39.0|     M|          ATA|    120.0|      204.0|      0.0|    Normal|145.0|             N|    0.0|      Up|         0.0|\n",
            "|49.0|     M|          ASY|    140.0|      234.0|      0.0|    Normal|140.0|             Y|    1.0|    Flat|         1.0|\n",
            "|42.0|     F|          NAP|    115.0|      211.0|      0.0|        ST|137.0|             N|    0.0|      Up|         0.0|\n",
            "|54.0|     F|          ATA|    120.0|      273.0|      0.0|    Normal|150.0|             N|    1.5|    Flat|         0.0|\n",
            "|38.0|     M|          ASY|    110.0|      196.0|      0.0|    Normal|166.0|             N|    0.0|    Flat|         1.0|\n",
            "|43.0|     F|          ATA|    120.0|      201.0|      0.0|    Normal|165.0|             N|    0.0|      Up|         0.0|\n",
            "|60.0|     M|          ASY|    100.0|      248.0|      0.0|    Normal|125.0|             N|    1.0|    Flat|         1.0|\n",
            "|36.0|     M|          ATA|    120.0|      267.0|      0.0|    Normal|160.0|             N|    3.0|    Flat|         1.0|\n",
            "+----+------+-------------+---------+-----------+---------+----------+-----+--------------+-------+--------+------------+\n",
            "only showing top 20 rows\n",
            "\n"
          ]
        }
      ]
    },
    {
      "cell_type": "markdown",
      "source": [
        "Checking Dataframe size"
      ],
      "metadata": {
        "id": "6Oymc9CPcl1v"
      }
    },
    {
      "cell_type": "code",
      "source": [
        "# Counting the number of rows in the DataFrame\n",
        "num_rows = data.count()\n",
        "\n",
        "# Counting the number of columns in the DataFrame\n",
        "num_cols = len(data.columns)\n",
        "\n",
        "print(\"Number of rows: \", num_rows)\n",
        "print(\"Number of columns: \", num_cols)"
      ],
      "metadata": {
        "colab": {
          "base_uri": "https://localhost:8080/"
        },
        "id": "04UjpcOgcjuq",
        "outputId": "d396189a-de7d-4bb5-ae88-d3ff517fbda5"
      },
      "execution_count": 13,
      "outputs": [
        {
          "output_type": "stream",
          "name": "stdout",
          "text": [
            "Number of rows:  918\n",
            "Number of columns:  12\n"
          ]
        }
      ]
    },
    {
      "cell_type": "markdown",
      "source": [
        "Statistical Summary Of Dataframe"
      ],
      "metadata": {
        "id": "UXGdJ7fhcqJ9"
      }
    },
    {
      "cell_type": "code",
      "source": [
        "data.describe().show()"
      ],
      "metadata": {
        "colab": {
          "base_uri": "https://localhost:8080/"
        },
        "id": "jYvEUmUTcoZn",
        "outputId": "7f4fdfa7-7051-4fe2-bd6c-f0c6c47bb351"
      },
      "execution_count": 14,
      "outputs": [
        {
          "output_type": "stream",
          "name": "stdout",
          "text": [
            "+-------+------------------+------+-------------+------------------+------------------+-------------------+----------+------------------+--------------+------------------+--------+-------------------+\n",
            "|summary|               Age|Gender|ChestPainType|         RestingBP|       Cholesterol|          FastingBS|RestingECG|             MaxHR|ExerciseAngina|           Oldpeak|ST_Slope|       HeartDisease|\n",
            "+-------+------------------+------+-------------+------------------+------------------+-------------------+----------+------------------+--------------+------------------+--------+-------------------+\n",
            "|  count|               918|   918|          918|               918|               918|                918|       918|               918|           918|               918|     918|                918|\n",
            "|   mean|53.510893246187365|  null|         null|132.39651416122004| 198.7995642701525|0.23311546840958605|      null|136.80936819172112|          null|0.8873638344226581|    null| 0.5533769063180828|\n",
            "| stddev|  9.43261650673202|  null|         null|18.514154119907808|109.38414455220345|0.42304562473930296|      null| 25.46033413825029|          null|1.0665701510493264|    null|0.49741373828459706|\n",
            "|    min|              28.0|     F|          ASY|               0.0|               0.0|                0.0|       LVH|              60.0|             N|              -2.6|    Down|                0.0|\n",
            "|    max|              77.0|     M|           TA|             200.0|             603.0|                1.0|        ST|             202.0|             Y|               6.2|      Up|                1.0|\n",
            "+-------+------------------+------+-------------+------------------+------------------+-------------------+----------+------------------+--------------+------------------+--------+-------------------+\n",
            "\n"
          ]
        }
      ]
    },
    {
      "cell_type": "markdown",
      "source": [
        "Checking the duplicate records in data"
      ],
      "metadata": {
        "id": "qCoDlSM0cwJa"
      }
    },
    {
      "cell_type": "code",
      "source": [
        "data.distinct().count()"
      ],
      "metadata": {
        "colab": {
          "base_uri": "https://localhost:8080/"
        },
        "id": "k2cB55jPcsVH",
        "outputId": "e48ff663-26cb-4386-c478-cf6a24dc2e89"
      },
      "execution_count": 15,
      "outputs": [
        {
          "output_type": "execute_result",
          "data": {
            "text/plain": [
              "918"
            ]
          },
          "metadata": {},
          "execution_count": 15
        }
      ]
    },
    {
      "cell_type": "markdown",
      "source": [
        "Checking Null Values in dataframe"
      ],
      "metadata": {
        "id": "CUPA7vTQcz8y"
      }
    },
    {
      "cell_type": "code",
      "source": [
        "null_counts = data.agg(*[count(when(col(c).isNull(), c)).alias(c) for c in data.columns])\n",
        "\n",
        "# Display the null counts\n",
        "null_counts.show()"
      ],
      "metadata": {
        "colab": {
          "base_uri": "https://localhost:8080/"
        },
        "id": "XaqNcSezcyG0",
        "outputId": "622277bd-d4d9-4237-e99b-2b612d77b703"
      },
      "execution_count": 16,
      "outputs": [
        {
          "output_type": "stream",
          "name": "stdout",
          "text": [
            "+---+------+-------------+---------+-----------+---------+----------+-----+--------------+-------+--------+------------+\n",
            "|Age|Gender|ChestPainType|RestingBP|Cholesterol|FastingBS|RestingECG|MaxHR|ExerciseAngina|Oldpeak|ST_Slope|HeartDisease|\n",
            "+---+------+-------------+---------+-----------+---------+----------+-----+--------------+-------+--------+------------+\n",
            "|  0|     0|            0|        0|          0|        0|         0|    0|             0|      0|       0|           0|\n",
            "+---+------+-------------+---------+-----------+---------+----------+-----+--------------+-------+--------+------------+\n",
            "\n"
          ]
        }
      ]
    },
    {
      "cell_type": "code",
      "source": [
        "data.groupBy(\"ChestPainType\").count().show()"
      ],
      "metadata": {
        "colab": {
          "base_uri": "https://localhost:8080/"
        },
        "id": "MK3ZPCj6c22q",
        "outputId": "b67c0642-3e84-4db0-a29c-2aabec5a2902"
      },
      "execution_count": 17,
      "outputs": [
        {
          "output_type": "stream",
          "name": "stdout",
          "text": [
            "+-------------+-----+\n",
            "|ChestPainType|count|\n",
            "+-------------+-----+\n",
            "|          NAP|  203|\n",
            "|          ATA|  173|\n",
            "|           TA|   46|\n",
            "|          ASY|  496|\n",
            "+-------------+-----+\n",
            "\n"
          ]
        }
      ]
    },
    {
      "cell_type": "code",
      "source": [
        "data.groupBy(\"RestingECG\").count().show()"
      ],
      "metadata": {
        "colab": {
          "base_uri": "https://localhost:8080/"
        },
        "id": "do1wk6pTc5ro",
        "outputId": "3b4c8fdd-9b12-41a0-f3be-be901118543d"
      },
      "execution_count": 18,
      "outputs": [
        {
          "output_type": "stream",
          "name": "stdout",
          "text": [
            "+----------+-----+\n",
            "|RestingECG|count|\n",
            "+----------+-----+\n",
            "|       LVH|  188|\n",
            "|    Normal|  552|\n",
            "|        ST|  178|\n",
            "+----------+-----+\n",
            "\n"
          ]
        }
      ]
    },
    {
      "cell_type": "code",
      "source": [
        "data.groupBy(\"ST_Slope\").count().show()"
      ],
      "metadata": {
        "colab": {
          "base_uri": "https://localhost:8080/"
        },
        "id": "JIId93Dmc8U2",
        "outputId": "95dcdcab-190d-4b3a-8e15-8d82606cabac"
      },
      "execution_count": 19,
      "outputs": [
        {
          "output_type": "stream",
          "name": "stdout",
          "text": [
            "+--------+-----+\n",
            "|ST_Slope|count|\n",
            "+--------+-----+\n",
            "|    Flat|  460|\n",
            "|      Up|  395|\n",
            "|    Down|   63|\n",
            "+--------+-----+\n",
            "\n"
          ]
        }
      ]
    },
    {
      "cell_type": "code",
      "source": [
        "data.groupBy(\"HeartDisease\").count().show()"
      ],
      "metadata": {
        "colab": {
          "base_uri": "https://localhost:8080/"
        },
        "id": "FeXl8UeKc-oL",
        "outputId": "7cea2d86-0809-4d80-d5d1-29a24d59952c"
      },
      "execution_count": 20,
      "outputs": [
        {
          "output_type": "stream",
          "name": "stdout",
          "text": [
            "+------------+-----+\n",
            "|HeartDisease|count|\n",
            "+------------+-----+\n",
            "|         1.0|  508|\n",
            "|         0.0|  410|\n",
            "+------------+-----+\n",
            "\n"
          ]
        }
      ]
    },
    {
      "cell_type": "markdown",
      "source": [
        "1 Means person has Heart Disease\n",
        "\n",
        "0 Means Person doesn't have Heart Disease"
      ],
      "metadata": {
        "id": "1vkyZwIQdC5P"
      }
    },
    {
      "cell_type": "markdown",
      "source": [
        "Handling the Catogorical Features"
      ],
      "metadata": {
        "id": "ClHmQ4XjdFTZ"
      }
    },
    {
      "cell_type": "code",
      "source": [
        "from pyspark.ml.feature import StringIndexer\n",
        "from pyspark.ml.feature import VectorAssembler"
      ],
      "metadata": {
        "id": "n2jOHsuidAuf"
      },
      "execution_count": 21,
      "outputs": []
    },
    {
      "cell_type": "code",
      "source": [
        "indexer = StringIndexer(inputCols=[\"Gender\",\"ChestPainType\",\"RestingECG\",\"ExerciseAngina\",\"ST_Slope\"],\n",
        "                        outputCols=[\"Gender_cat\",\"ChestPainType_cat\",\"RestingECG_cat\",\"ExerciseAngina_cat\",\"ST_Slope_cat\"])\n",
        "indexed = indexer.fit(data).transform(data)"
      ],
      "metadata": {
        "id": "fT9z3NQxdIQJ"
      },
      "execution_count": 22,
      "outputs": []
    },
    {
      "cell_type": "code",
      "source": [
        "indexed.show()"
      ],
      "metadata": {
        "colab": {
          "base_uri": "https://localhost:8080/"
        },
        "id": "M-fMwgpSdKFG",
        "outputId": "0eb7f767-ac8f-4331-8865-5c242b356e9d"
      },
      "execution_count": 23,
      "outputs": [
        {
          "output_type": "stream",
          "name": "stdout",
          "text": [
            "+----+------+-------------+---------+-----------+---------+----------+-----+--------------+-------+--------+------------+----------+-----------------+--------------+------------------+------------+\n",
            "| Age|Gender|ChestPainType|RestingBP|Cholesterol|FastingBS|RestingECG|MaxHR|ExerciseAngina|Oldpeak|ST_Slope|HeartDisease|Gender_cat|ChestPainType_cat|RestingECG_cat|ExerciseAngina_cat|ST_Slope_cat|\n",
            "+----+------+-------------+---------+-----------+---------+----------+-----+--------------+-------+--------+------------+----------+-----------------+--------------+------------------+------------+\n",
            "|40.0|     M|          ATA|    140.0|      289.0|      0.0|    Normal|172.0|             N|    0.0|      Up|         0.0|       0.0|              2.0|           0.0|               0.0|         1.0|\n",
            "|49.0|     F|          NAP|    160.0|      180.0|      0.0|    Normal|156.0|             N|    1.0|    Flat|         1.0|       1.0|              1.0|           0.0|               0.0|         0.0|\n",
            "|37.0|     M|          ATA|    130.0|      283.0|      0.0|        ST| 98.0|             N|    0.0|      Up|         0.0|       0.0|              2.0|           2.0|               0.0|         1.0|\n",
            "|48.0|     F|          ASY|    138.0|      214.0|      0.0|    Normal|108.0|             Y|    1.5|    Flat|         1.0|       1.0|              0.0|           0.0|               1.0|         0.0|\n",
            "|54.0|     M|          NAP|    150.0|      195.0|      0.0|    Normal|122.0|             N|    0.0|      Up|         0.0|       0.0|              1.0|           0.0|               0.0|         1.0|\n",
            "|39.0|     M|          NAP|    120.0|      339.0|      0.0|    Normal|170.0|             N|    0.0|      Up|         0.0|       0.0|              1.0|           0.0|               0.0|         1.0|\n",
            "|45.0|     F|          ATA|    130.0|      237.0|      0.0|    Normal|170.0|             N|    0.0|      Up|         0.0|       1.0|              2.0|           0.0|               0.0|         1.0|\n",
            "|54.0|     M|          ATA|    110.0|      208.0|      0.0|    Normal|142.0|             N|    0.0|      Up|         0.0|       0.0|              2.0|           0.0|               0.0|         1.0|\n",
            "|37.0|     M|          ASY|    140.0|      207.0|      0.0|    Normal|130.0|             Y|    1.5|    Flat|         1.0|       0.0|              0.0|           0.0|               1.0|         0.0|\n",
            "|48.0|     F|          ATA|    120.0|      284.0|      0.0|    Normal|120.0|             N|    0.0|      Up|         0.0|       1.0|              2.0|           0.0|               0.0|         1.0|\n",
            "|37.0|     F|          NAP|    130.0|      211.0|      0.0|    Normal|142.0|             N|    0.0|      Up|         0.0|       1.0|              1.0|           0.0|               0.0|         1.0|\n",
            "|58.0|     M|          ATA|    136.0|      164.0|      0.0|        ST| 99.0|             Y|    2.0|    Flat|         1.0|       0.0|              2.0|           2.0|               1.0|         0.0|\n",
            "|39.0|     M|          ATA|    120.0|      204.0|      0.0|    Normal|145.0|             N|    0.0|      Up|         0.0|       0.0|              2.0|           0.0|               0.0|         1.0|\n",
            "|49.0|     M|          ASY|    140.0|      234.0|      0.0|    Normal|140.0|             Y|    1.0|    Flat|         1.0|       0.0|              0.0|           0.0|               1.0|         0.0|\n",
            "|42.0|     F|          NAP|    115.0|      211.0|      0.0|        ST|137.0|             N|    0.0|      Up|         0.0|       1.0|              1.0|           2.0|               0.0|         1.0|\n",
            "|54.0|     F|          ATA|    120.0|      273.0|      0.0|    Normal|150.0|             N|    1.5|    Flat|         0.0|       1.0|              2.0|           0.0|               0.0|         0.0|\n",
            "|38.0|     M|          ASY|    110.0|      196.0|      0.0|    Normal|166.0|             N|    0.0|    Flat|         1.0|       0.0|              0.0|           0.0|               0.0|         0.0|\n",
            "|43.0|     F|          ATA|    120.0|      201.0|      0.0|    Normal|165.0|             N|    0.0|      Up|         0.0|       1.0|              2.0|           0.0|               0.0|         1.0|\n",
            "|60.0|     M|          ASY|    100.0|      248.0|      0.0|    Normal|125.0|             N|    1.0|    Flat|         1.0|       0.0|              0.0|           0.0|               0.0|         0.0|\n",
            "|36.0|     M|          ATA|    120.0|      267.0|      0.0|    Normal|160.0|             N|    3.0|    Flat|         1.0|       0.0|              2.0|           0.0|               0.0|         0.0|\n",
            "+----+------+-------------+---------+-----------+---------+----------+-----+--------------+-------+--------+------------+----------+-----------------+--------------+------------------+------------+\n",
            "only showing top 20 rows\n",
            "\n"
          ]
        }
      ]
    },
    {
      "cell_type": "markdown",
      "source": [
        "Used VectorAssembler to combine all Independent variables or features"
      ],
      "metadata": {
        "id": "oep8Q9CCdSRO"
      }
    },
    {
      "cell_type": "code",
      "source": [
        "assembler = VectorAssembler(inputCols=['Age',\n",
        " 'RestingBP',\n",
        " 'Cholesterol',\n",
        " 'FastingBS',\n",
        " 'MaxHR',\n",
        " 'Oldpeak',\n",
        " 'Gender_cat', 'ChestPainType_cat', 'RestingECG_cat',\n",
        " 'ExerciseAngina_cat',\n",
        " 'ST_Slope_cat'],outputCol='features')"
      ],
      "metadata": {
        "id": "fgIlYGK6dL3n"
      },
      "execution_count": 24,
      "outputs": []
    },
    {
      "cell_type": "code",
      "source": [
        "assembler"
      ],
      "metadata": {
        "colab": {
          "base_uri": "https://localhost:8080/"
        },
        "id": "GCY99wHKdUpl",
        "outputId": "3160e9a0-b6a5-4a9e-f5ed-9bf0b49a46a2"
      },
      "execution_count": 25,
      "outputs": [
        {
          "output_type": "execute_result",
          "data": {
            "text/plain": [
              "VectorAssembler_99b00e64bc05"
            ]
          },
          "metadata": {},
          "execution_count": 25
        }
      ]
    },
    {
      "cell_type": "code",
      "source": [
        "output = assembler.transform(indexed)\n",
        "\n",
        "output.show(truncate=False)"
      ],
      "metadata": {
        "colab": {
          "base_uri": "https://localhost:8080/"
        },
        "id": "HcwYPSe7dWaK",
        "outputId": "4d3bbda5-8de3-4c18-ff78-9f56390826cf"
      },
      "execution_count": 26,
      "outputs": [
        {
          "output_type": "stream",
          "name": "stdout",
          "text": [
            "+----+------+-------------+---------+-----------+---------+----------+-----+--------------+-------+--------+------------+----------+-----------------+--------------+------------------+------------+----------------------------------------------------+\n",
            "|Age |Gender|ChestPainType|RestingBP|Cholesterol|FastingBS|RestingECG|MaxHR|ExerciseAngina|Oldpeak|ST_Slope|HeartDisease|Gender_cat|ChestPainType_cat|RestingECG_cat|ExerciseAngina_cat|ST_Slope_cat|features                                            |\n",
            "+----+------+-------------+---------+-----------+---------+----------+-----+--------------+-------+--------+------------+----------+-----------------+--------------+------------------+------------+----------------------------------------------------+\n",
            "|40.0|M     |ATA          |140.0    |289.0      |0.0      |Normal    |172.0|N             |0.0    |Up      |0.0         |0.0       |2.0              |0.0           |0.0               |1.0         |(11,[0,1,2,4,7,10],[40.0,140.0,289.0,172.0,2.0,1.0])|\n",
            "|49.0|F     |NAP          |160.0    |180.0      |0.0      |Normal    |156.0|N             |1.0    |Flat    |1.0         |1.0       |1.0              |0.0           |0.0               |0.0         |[49.0,160.0,180.0,0.0,156.0,1.0,1.0,1.0,0.0,0.0,0.0]|\n",
            "|37.0|M     |ATA          |130.0    |283.0      |0.0      |ST        |98.0 |N             |0.0    |Up      |0.0         |0.0       |2.0              |2.0           |0.0               |1.0         |[37.0,130.0,283.0,0.0,98.0,0.0,0.0,2.0,2.0,0.0,1.0] |\n",
            "|48.0|F     |ASY          |138.0    |214.0      |0.0      |Normal    |108.0|Y             |1.5    |Flat    |1.0         |1.0       |0.0              |0.0           |1.0               |0.0         |[48.0,138.0,214.0,0.0,108.0,1.5,1.0,0.0,0.0,1.0,0.0]|\n",
            "|54.0|M     |NAP          |150.0    |195.0      |0.0      |Normal    |122.0|N             |0.0    |Up      |0.0         |0.0       |1.0              |0.0           |0.0               |1.0         |(11,[0,1,2,4,7,10],[54.0,150.0,195.0,122.0,1.0,1.0])|\n",
            "|39.0|M     |NAP          |120.0    |339.0      |0.0      |Normal    |170.0|N             |0.0    |Up      |0.0         |0.0       |1.0              |0.0           |0.0               |1.0         |(11,[0,1,2,4,7,10],[39.0,120.0,339.0,170.0,1.0,1.0])|\n",
            "|45.0|F     |ATA          |130.0    |237.0      |0.0      |Normal    |170.0|N             |0.0    |Up      |0.0         |1.0       |2.0              |0.0           |0.0               |1.0         |[45.0,130.0,237.0,0.0,170.0,0.0,1.0,2.0,0.0,0.0,1.0]|\n",
            "|54.0|M     |ATA          |110.0    |208.0      |0.0      |Normal    |142.0|N             |0.0    |Up      |0.0         |0.0       |2.0              |0.0           |0.0               |1.0         |(11,[0,1,2,4,7,10],[54.0,110.0,208.0,142.0,2.0,1.0])|\n",
            "|37.0|M     |ASY          |140.0    |207.0      |0.0      |Normal    |130.0|Y             |1.5    |Flat    |1.0         |0.0       |0.0              |0.0           |1.0               |0.0         |(11,[0,1,2,4,5,9],[37.0,140.0,207.0,130.0,1.5,1.0]) |\n",
            "|48.0|F     |ATA          |120.0    |284.0      |0.0      |Normal    |120.0|N             |0.0    |Up      |0.0         |1.0       |2.0              |0.0           |0.0               |1.0         |[48.0,120.0,284.0,0.0,120.0,0.0,1.0,2.0,0.0,0.0,1.0]|\n",
            "|37.0|F     |NAP          |130.0    |211.0      |0.0      |Normal    |142.0|N             |0.0    |Up      |0.0         |1.0       |1.0              |0.0           |0.0               |1.0         |[37.0,130.0,211.0,0.0,142.0,0.0,1.0,1.0,0.0,0.0,1.0]|\n",
            "|58.0|M     |ATA          |136.0    |164.0      |0.0      |ST        |99.0 |Y             |2.0    |Flat    |1.0         |0.0       |2.0              |2.0           |1.0               |0.0         |[58.0,136.0,164.0,0.0,99.0,2.0,0.0,2.0,2.0,1.0,0.0] |\n",
            "|39.0|M     |ATA          |120.0    |204.0      |0.0      |Normal    |145.0|N             |0.0    |Up      |0.0         |0.0       |2.0              |0.0           |0.0               |1.0         |(11,[0,1,2,4,7,10],[39.0,120.0,204.0,145.0,2.0,1.0])|\n",
            "|49.0|M     |ASY          |140.0    |234.0      |0.0      |Normal    |140.0|Y             |1.0    |Flat    |1.0         |0.0       |0.0              |0.0           |1.0               |0.0         |(11,[0,1,2,4,5,9],[49.0,140.0,234.0,140.0,1.0,1.0]) |\n",
            "|42.0|F     |NAP          |115.0    |211.0      |0.0      |ST        |137.0|N             |0.0    |Up      |0.0         |1.0       |1.0              |2.0           |0.0               |1.0         |[42.0,115.0,211.0,0.0,137.0,0.0,1.0,1.0,2.0,0.0,1.0]|\n",
            "|54.0|F     |ATA          |120.0    |273.0      |0.0      |Normal    |150.0|N             |1.5    |Flat    |0.0         |1.0       |2.0              |0.0           |0.0               |0.0         |[54.0,120.0,273.0,0.0,150.0,1.5,1.0,2.0,0.0,0.0,0.0]|\n",
            "|38.0|M     |ASY          |110.0    |196.0      |0.0      |Normal    |166.0|N             |0.0    |Flat    |1.0         |0.0       |0.0              |0.0           |0.0               |0.0         |(11,[0,1,2,4],[38.0,110.0,196.0,166.0])             |\n",
            "|43.0|F     |ATA          |120.0    |201.0      |0.0      |Normal    |165.0|N             |0.0    |Up      |0.0         |1.0       |2.0              |0.0           |0.0               |1.0         |[43.0,120.0,201.0,0.0,165.0,0.0,1.0,2.0,0.0,0.0,1.0]|\n",
            "|60.0|M     |ASY          |100.0    |248.0      |0.0      |Normal    |125.0|N             |1.0    |Flat    |1.0         |0.0       |0.0              |0.0           |0.0               |0.0         |(11,[0,1,2,4,5],[60.0,100.0,248.0,125.0,1.0])       |\n",
            "|36.0|M     |ATA          |120.0    |267.0      |0.0      |Normal    |160.0|N             |3.0    |Flat    |1.0         |0.0       |2.0              |0.0           |0.0               |0.0         |(11,[0,1,2,4,5,7],[36.0,120.0,267.0,160.0,3.0,2.0]) |\n",
            "+----+------+-------------+---------+-----------+---------+----------+-----+--------------+-------+--------+------------+----------+-----------------+--------------+------------------+------------+----------------------------------------------------+\n",
            "only showing top 20 rows\n",
            "\n"
          ]
        }
      ]
    },
    {
      "cell_type": "markdown",
      "source": [
        "Creating New DataFrame which contains only Independent and Dependent features"
      ],
      "metadata": {
        "id": "VYnE93vgda3e"
      }
    },
    {
      "cell_type": "code",
      "source": [
        "model = output.select('features','HeartDisease')"
      ],
      "metadata": {
        "id": "Eze_R9KqdYQm"
      },
      "execution_count": 27,
      "outputs": []
    },
    {
      "cell_type": "code",
      "source": [
        "model.show()"
      ],
      "metadata": {
        "colab": {
          "base_uri": "https://localhost:8080/"
        },
        "id": "ISUrGiXiddG_",
        "outputId": "b5135728-3879-4183-9847-3bfbbd9be47e"
      },
      "execution_count": 28,
      "outputs": [
        {
          "output_type": "stream",
          "name": "stdout",
          "text": [
            "+--------------------+------------+\n",
            "|            features|HeartDisease|\n",
            "+--------------------+------------+\n",
            "|(11,[0,1,2,4,7,10...|         0.0|\n",
            "|[49.0,160.0,180.0...|         1.0|\n",
            "|[37.0,130.0,283.0...|         0.0|\n",
            "|[48.0,138.0,214.0...|         1.0|\n",
            "|(11,[0,1,2,4,7,10...|         0.0|\n",
            "|(11,[0,1,2,4,7,10...|         0.0|\n",
            "|[45.0,130.0,237.0...|         0.0|\n",
            "|(11,[0,1,2,4,7,10...|         0.0|\n",
            "|(11,[0,1,2,4,5,9]...|         1.0|\n",
            "|[48.0,120.0,284.0...|         0.0|\n",
            "|[37.0,130.0,211.0...|         0.0|\n",
            "|[58.0,136.0,164.0...|         1.0|\n",
            "|(11,[0,1,2,4,7,10...|         0.0|\n",
            "|(11,[0,1,2,4,5,9]...|         1.0|\n",
            "|[42.0,115.0,211.0...|         0.0|\n",
            "|[54.0,120.0,273.0...|         0.0|\n",
            "|(11,[0,1,2,4],[38...|         1.0|\n",
            "|[43.0,120.0,201.0...|         0.0|\n",
            "|(11,[0,1,2,4,5],[...|         1.0|\n",
            "|(11,[0,1,2,4,5,7]...|         1.0|\n",
            "+--------------------+------------+\n",
            "only showing top 20 rows\n",
            "\n"
          ]
        }
      ]
    },
    {
      "cell_type": "markdown",
      "source": [
        "Split Train and Test Data"
      ],
      "metadata": {
        "id": "tF9u-PgcdhzW"
      }
    },
    {
      "cell_type": "code",
      "source": [
        "train_data, test_data = model.randomSplit([0.7,0.3])"
      ],
      "metadata": {
        "id": "cTAoWFp4dfJP"
      },
      "execution_count": 29,
      "outputs": []
    },
    {
      "cell_type": "code",
      "source": [
        "print(train_data.count(),test_data.count())"
      ],
      "metadata": {
        "colab": {
          "base_uri": "https://localhost:8080/"
        },
        "id": "mr1zhWqkdlD5",
        "outputId": "581bc49e-6066-43a1-be36-d7161769e229"
      },
      "execution_count": 30,
      "outputs": [
        {
          "output_type": "stream",
          "name": "stdout",
          "text": [
            "642 276\n"
          ]
        }
      ]
    },
    {
      "cell_type": "markdown",
      "source": [
        "Logistic Regression"
      ],
      "metadata": {
        "id": "Nyens1i1do0q"
      }
    },
    {
      "cell_type": "code",
      "source": [
        "from pyspark.ml.classification import LogisticRegression"
      ],
      "metadata": {
        "id": "LuhOAJF0dnCj"
      },
      "execution_count": 31,
      "outputs": []
    },
    {
      "cell_type": "code",
      "source": [
        "#lr = LogisticRegression(labelCol='HeartDisease').fit(train_data)\n",
        "\n",
        "lr = LogisticRegression(featuresCol='features',labelCol='HeartDisease').fit(train_data)"
      ],
      "metadata": {
        "id": "mo5FEEOwdr2l"
      },
      "execution_count": 32,
      "outputs": []
    },
    {
      "cell_type": "code",
      "source": [
        "lr"
      ],
      "metadata": {
        "colab": {
          "base_uri": "https://localhost:8080/"
        },
        "id": "CsAgiYWGd5S2",
        "outputId": "ed73316a-ccbf-49fb-e2a8-434f5f27f511"
      },
      "execution_count": 33,
      "outputs": [
        {
          "output_type": "execute_result",
          "data": {
            "text/plain": [
              "LogisticRegressionModel: uid=LogisticRegression_4c6862ee92b1, numClasses=2, numFeatures=11"
            ]
          },
          "metadata": {},
          "execution_count": 33
        }
      ]
    },
    {
      "cell_type": "code",
      "source": [
        "train_result = lr.evaluate(train_data).predictions"
      ],
      "metadata": {
        "id": "bQKJLBBYd8vD"
      },
      "execution_count": 34,
      "outputs": []
    },
    {
      "cell_type": "code",
      "source": [
        "train_result.show()"
      ],
      "metadata": {
        "colab": {
          "base_uri": "https://localhost:8080/"
        },
        "id": "ADaFdKPweAQJ",
        "outputId": "771bdaca-a14d-40be-e17c-c3f9ed9cc85f"
      },
      "execution_count": 35,
      "outputs": [
        {
          "output_type": "stream",
          "name": "stdout",
          "text": [
            "+--------------------+------------+--------------------+--------------------+----------+\n",
            "|            features|HeartDisease|       rawPrediction|         probability|prediction|\n",
            "+--------------------+------------+--------------------+--------------------+----------+\n",
            "|(11,[0,1,2,3,4],[...|         1.0|[-1.6094177306173...|[0.16666946971562...|       1.0|\n",
            "|(11,[0,1,2,3,4,5]...|         1.0|[-3.3107157463934...|[0.03520540008898...|       1.0|\n",
            "|(11,[0,1,2,3,4,5]...|         1.0|[-4.6816403464470...|[0.00917877517788...|       1.0|\n",
            "|(11,[0,1,2,3,4,7]...|         1.0|[-1.6619404411531...|[0.15950168774851...|       1.0|\n",
            "|(11,[0,1,2,3,4,7]...|         1.0|[-1.9482861774663...|[0.12474035336261...|       1.0|\n",
            "|(11,[0,1,2,3,4,8]...|         1.0|[-2.1315836578703...|[0.10606474343034...|       1.0|\n",
            "|(11,[0,1,2,3,4,8]...|         1.0|[-1.9919462429616...|[0.12005111153245...|       1.0|\n",
            "|(11,[0,1,2,3,4,8]...|         1.0|[-2.8779031755184...|[0.05325676030919...|       1.0|\n",
            "|(11,[0,1,2,4],[32...|         1.0|[1.24380783366404...|[0.77622612727654...|       0.0|\n",
            "|(11,[0,1,2,4],[38...|         1.0|[0.26760330360043...|[0.56650442514685...|       0.0|\n",
            "|(11,[0,1,2,4],[38...|         1.0|[0.55793304805725...|[0.63597415273089...|       0.0|\n",
            "|(11,[0,1,2,4],[41...|         1.0|[0.55793715591927...|[0.63597510374572...|       0.0|\n",
            "|(11,[0,1,2,4],[44...|         1.0|[0.76507157770274...|[0.68245381404295...|       0.0|\n",
            "|(11,[0,1,2,4],[46...|         1.0|[-0.3801805500014...|[0.40608335133907...|       1.0|\n",
            "|(11,[0,1,2,4],[46...|         1.0|[-0.4188222590885...|[0.39679860751047...|       1.0|\n",
            "|(11,[0,1,2,4],[49...|         1.0|[-0.0394004143016...|[0.49015117049582...|       1.0|\n",
            "|(11,[0,1,2,4],[54...|         1.0|[-0.3690208710004...|[0.40877763482280...|       1.0|\n",
            "|(11,[0,1,2,4],[58...|         1.0|[-0.7224112446233...|[0.32686223158179...|       1.0|\n",
            "|(11,[0,1,2,4],[63...|         1.0|[-0.9175420990842...|[0.28545897314641...|       1.0|\n",
            "|(11,[0,1,2,4,5],[...|         1.0|[-0.7933470851491...|[0.31145043754536...|       1.0|\n",
            "+--------------------+------------+--------------------+--------------------+----------+\n",
            "only showing top 20 rows\n",
            "\n"
          ]
        }
      ]
    },
    {
      "cell_type": "code",
      "source": [
        "lrc = lr.evaluate(test_data).predictions"
      ],
      "metadata": {
        "id": "yzFzVweaeC0O"
      },
      "execution_count": 36,
      "outputs": []
    },
    {
      "cell_type": "code",
      "source": [
        "lrc.show()"
      ],
      "metadata": {
        "colab": {
          "base_uri": "https://localhost:8080/"
        },
        "id": "6DrfhpdyeMno",
        "outputId": "b308b7e1-4e3f-4a47-e4ea-571a5f8b8b64"
      },
      "execution_count": 37,
      "outputs": [
        {
          "output_type": "stream",
          "name": "stdout",
          "text": [
            "+--------------------+------------+--------------------+--------------------+----------+\n",
            "|            features|HeartDisease|       rawPrediction|         probability|prediction|\n",
            "+--------------------+------------+--------------------+--------------------+----------+\n",
            "|(11,[0,1,2,3,4,5]...|         1.0|[-1.8890460138772...|[0.13135328059459...|       1.0|\n",
            "|(11,[0,1,2,3,4,8]...|         1.0|[-2.2150757424366...|[0.09840482777418...|       1.0|\n",
            "|(11,[0,1,2,4],[39...|         1.0|[0.39979604154952...|[0.59863865591684...|       0.0|\n",
            "|(11,[0,1,2,4],[46...|         1.0|[-0.0028049954364...|[0.49929875160066...|       1.0|\n",
            "|(11,[0,1,2,4],[50...|         1.0|[-0.1107709031819...|[0.47233555576049...|       1.0|\n",
            "|(11,[0,1,2,4],[52...|         1.0|[-0.3260225673161...|[0.41920870733709...|       1.0|\n",
            "|(11,[0,1,2,4],[59...|         1.0|[-0.9722511110161...|[0.27443203549314...|       1.0|\n",
            "|(11,[0,1,2,4,5],[...|         1.0|[-1.8132879750067...|[0.14024121355857...|       1.0|\n",
            "|(11,[0,1,2,4,5],[...|         1.0|[-1.9112526175914...|[0.12884019247285...|       1.0|\n",
            "|(11,[0,1,2,4,5,6]...|         0.0|[0.13848512881844...|[0.53456605715666...|       0.0|\n",
            "|(11,[0,1,2,4,5,6]...|         0.0|[-0.7040843095117...|[0.33090730671082...|       1.0|\n",
            "|(11,[0,1,2,4,5,7]...|         1.0|[-0.2112331886358...|[0.44738718712218...|       1.0|\n",
            "|(11,[0,1,2,4,5,7]...|         0.0|[0.54656222645410...|[0.63333763409824...|       0.0|\n",
            "|(11,[0,1,2,4,5,7]...|         1.0|[-1.0184609533808...|[0.26532729655113...|       1.0|\n",
            "|(11,[0,1,2,4,5,8]...|         1.0|[-0.1481299145392...|[0.46303508845266...|       1.0|\n",
            "|(11,[0,1,2,4,5,8]...|         1.0|[-1.4302176534937...|[0.19306477356324...|       1.0|\n",
            "|(11,[0,1,2,4,5,9]...|         1.0|[-2.0506497550128...|[0.11398674361360...|       1.0|\n",
            "|(11,[0,1,2,4,5,9]...|         1.0|[-2.8239380564732...|[0.05604423287487...|       1.0|\n",
            "|(11,[0,1,2,4,5,9]...|         1.0|[-2.4990555451701...|[0.07592441634312...|       1.0|\n",
            "|(11,[0,1,2,4,5,9]...|         1.0|[-2.4195183357584...|[0.08169638363717...|       1.0|\n",
            "+--------------------+------------+--------------------+--------------------+----------+\n",
            "only showing top 20 rows\n",
            "\n"
          ]
        }
      ]
    },
    {
      "cell_type": "code",
      "source": [
        "lrc.select([\"HeartDisease\", \"prediction\"]).show(10)"
      ],
      "metadata": {
        "colab": {
          "base_uri": "https://localhost:8080/"
        },
        "id": "Fo6e-smfeRod",
        "outputId": "c6c22c1f-f0c7-4eab-ffe2-f8b1083e1be4"
      },
      "execution_count": 38,
      "outputs": [
        {
          "output_type": "stream",
          "name": "stdout",
          "text": [
            "+------------+----------+\n",
            "|HeartDisease|prediction|\n",
            "+------------+----------+\n",
            "|         1.0|       1.0|\n",
            "|         1.0|       1.0|\n",
            "|         1.0|       0.0|\n",
            "|         1.0|       1.0|\n",
            "|         1.0|       1.0|\n",
            "|         1.0|       1.0|\n",
            "|         1.0|       1.0|\n",
            "|         1.0|       1.0|\n",
            "|         1.0|       1.0|\n",
            "|         0.0|       0.0|\n",
            "+------------+----------+\n",
            "only showing top 10 rows\n",
            "\n"
          ]
        }
      ]
    },
    {
      "cell_type": "markdown",
      "source": [
        "Calculate confusion matrix"
      ],
      "metadata": {
        "id": "Pq0UeD0hecOe"
      }
    },
    {
      "cell_type": "code",
      "source": [
        "tp = lrc[(lrc.HeartDisease==1) & (lrc.prediction==1)].count()\n",
        "tn = lrc[(lrc.HeartDisease==0) & (lrc.prediction==0)].count()\n",
        "fp = lrc[(lrc.HeartDisease==0) & (lrc.prediction==1)].count()\n",
        "fn = lrc[(lrc.HeartDisease==1) & (lrc.prediction==0)].count()\n",
        "\n",
        "confusion_matrix = [[tn, fp], [fn, tp]]"
      ],
      "metadata": {
        "id": "RU39W_oveYv-"
      },
      "execution_count": 40,
      "outputs": []
    },
    {
      "cell_type": "code",
      "source": [
        "accuracy = float((tp+tn) / (lrc.count()))\n",
        "recal = float(tn)/(tp+tn) \n",
        "precision = float(tp)/(tp+fp) \n",
        "f1_score = float(2*(precision*recal) / (precision+recal)) "
      ],
      "metadata": {
        "id": "t6pNUya1e2VI"
      },
      "execution_count": 41,
      "outputs": []
    },
    {
      "cell_type": "code",
      "source": [
        "print(\"Confusion Matrix: \")\n",
        "print(confusion_matrix)\n",
        "print(\"\")\n",
        "print(\"----Classification Report Of Logistic Regression----\")\n",
        "print(\"-----------------------------------------------------\")\n",
        "print(\"Accuracy Of Logistic Regression Is:\",accuracy)\n",
        "\n",
        "print(\"Recall of Logistic Regression Is:\",recal)\n",
        "\n",
        "print(\"Precision of Logistic Regression Is:\",precision)\n",
        "\n",
        "print(\"F1_Score of Logistic Regression Is:\",precision)\n",
        "print(\"-----------------------------------------------------\")"
      ],
      "metadata": {
        "colab": {
          "base_uri": "https://localhost:8080/"
        },
        "id": "JX4uH_7KfLaU",
        "outputId": "dd21bec5-a0d3-4dee-87a2-d177e8ae4fce"
      },
      "execution_count": 42,
      "outputs": [
        {
          "output_type": "stream",
          "name": "stdout",
          "text": [
            "Confusion Matrix: \n",
            "[[108, 15], [17, 136]]\n",
            "\n",
            "----Classification Report Of Logistic Regression----\n",
            "-----------------------------------------------------\n",
            "Accuracy Of Logistic Regression Is: 0.8840579710144928\n",
            "Recall of Logistic Regression Is: 0.4426229508196721\n",
            "Precision of Logistic Regression Is: 0.9006622516556292\n",
            "F1_Score of Logistic Regression Is: 0.9006622516556292\n",
            "-----------------------------------------------------\n"
          ]
        }
      ]
    },
    {
      "cell_type": "markdown",
      "source": [
        "Pickel The Model"
      ],
      "metadata": {
        "id": "my_OtPHOfXHf"
      }
    },
    {
      "cell_type": "code",
      "source": [
        "pic_model = lrc.toPandas()\n",
        "\n",
        "pic_model.head(10)"
      ],
      "metadata": {
        "colab": {
          "base_uri": "https://localhost:8080/",
          "height": 363
        },
        "id": "W6RWo-f2fOHg",
        "outputId": "7540a243-a2ff-4b65-a1e9-277f7959e081"
      },
      "execution_count": 45,
      "outputs": [
        {
          "output_type": "execute_result",
          "data": {
            "text/plain": [
              "                                            features  HeartDisease  \\\n",
              "0  (67.0, 125.0, 254.0, 1.0, 163.0, 0.2, 0.0, 0.0...           1.0   \n",
              "1  (55.0, 116.0, 186.0, 1.0, 102.0, 0.0, 0.0, 0.0...           1.0   \n",
              "2  (39.0, 110.0, 280.0, 0.0, 150.0, 0.0, 0.0, 0.0...           1.0   \n",
              "3  (46.0, 134.0, 310.0, 0.0, 126.0, 0.0, 0.0, 0.0...           1.0   \n",
              "4  (50.0, 145.0, 264.0, 0.0, 150.0, 0.0, 0.0, 0.0...           1.0   \n",
              "5  (52.0, 120.0, 182.0, 0.0, 150.0, 0.0, 0.0, 0.0...           1.0   \n",
              "6  (59.0, 130.0, 126.0, 0.0, 125.0, 0.0, 0.0, 0.0...           1.0   \n",
              "7  (54.0, 140.0, 216.0, 0.0, 105.0, 1.5, 0.0, 0.0...           1.0   \n",
              "8  (67.0, 120.0, 237.0, 0.0, 71.0, 1.0, 0.0, 0.0,...           1.0   \n",
              "9  (58.0, 130.0, 197.0, 0.0, 131.0, 0.6, 1.0, 0.0...           0.0   \n",
              "\n",
              "                                     rawPrediction  \\\n",
              "0        [-1.8890460138772787, 1.8890460138772787]   \n",
              "1        [-2.2150757424366456, 2.2150757424366456]   \n",
              "2      [0.39979604154952797, -0.39979604154952797]   \n",
              "3  [-0.0028049954364863794, 0.0028049954364863794]   \n",
              "4      [-0.11077090318199989, 0.11077090318199989]   \n",
              "5      [-0.32602256731611456, 0.32602256731611456]   \n",
              "6        [-0.9722511110161218, 0.9722511110161218]   \n",
              "7        [-1.8132879750067972, 1.8132879750067972]   \n",
              "8          [-1.911252617591412, 1.911252617591412]   \n",
              "9      [0.13848512881844244, -0.13848512881844244]   \n",
              "\n",
              "                                 probability  prediction  \n",
              "0  [0.13135328059459547, 0.8686467194054045]         1.0  \n",
              "1  [0.09840482777418617, 0.9015951722258139]         1.0  \n",
              "2  [0.5986386559168457, 0.40136134408315427]         0.0  \n",
              "3  [0.49929875160066356, 0.5007012483993365]         1.0  \n",
              "4     [0.4723355557604901, 0.52766444423951]         1.0  \n",
              "5  [0.41920870733709287, 0.5807912926629071]         1.0  \n",
              "6     [0.274432035493144, 0.725567964506856]         1.0  \n",
              "7  [0.14024121355857133, 0.8597587864414287]         1.0  \n",
              "8  [0.12884019247285325, 0.8711598075271467]         1.0  \n",
              "9   [0.5345660571566646, 0.4654339428433354]         0.0  "
            ],
            "text/html": [
              "\n",
              "  <div id=\"df-b93f46eb-1b38-40a3-812c-d02d6a4d7524\">\n",
              "    <div class=\"colab-df-container\">\n",
              "      <div>\n",
              "<style scoped>\n",
              "    .dataframe tbody tr th:only-of-type {\n",
              "        vertical-align: middle;\n",
              "    }\n",
              "\n",
              "    .dataframe tbody tr th {\n",
              "        vertical-align: top;\n",
              "    }\n",
              "\n",
              "    .dataframe thead th {\n",
              "        text-align: right;\n",
              "    }\n",
              "</style>\n",
              "<table border=\"1\" class=\"dataframe\">\n",
              "  <thead>\n",
              "    <tr style=\"text-align: right;\">\n",
              "      <th></th>\n",
              "      <th>features</th>\n",
              "      <th>HeartDisease</th>\n",
              "      <th>rawPrediction</th>\n",
              "      <th>probability</th>\n",
              "      <th>prediction</th>\n",
              "    </tr>\n",
              "  </thead>\n",
              "  <tbody>\n",
              "    <tr>\n",
              "      <th>0</th>\n",
              "      <td>(67.0, 125.0, 254.0, 1.0, 163.0, 0.2, 0.0, 0.0...</td>\n",
              "      <td>1.0</td>\n",
              "      <td>[-1.8890460138772787, 1.8890460138772787]</td>\n",
              "      <td>[0.13135328059459547, 0.8686467194054045]</td>\n",
              "      <td>1.0</td>\n",
              "    </tr>\n",
              "    <tr>\n",
              "      <th>1</th>\n",
              "      <td>(55.0, 116.0, 186.0, 1.0, 102.0, 0.0, 0.0, 0.0...</td>\n",
              "      <td>1.0</td>\n",
              "      <td>[-2.2150757424366456, 2.2150757424366456]</td>\n",
              "      <td>[0.09840482777418617, 0.9015951722258139]</td>\n",
              "      <td>1.0</td>\n",
              "    </tr>\n",
              "    <tr>\n",
              "      <th>2</th>\n",
              "      <td>(39.0, 110.0, 280.0, 0.0, 150.0, 0.0, 0.0, 0.0...</td>\n",
              "      <td>1.0</td>\n",
              "      <td>[0.39979604154952797, -0.39979604154952797]</td>\n",
              "      <td>[0.5986386559168457, 0.40136134408315427]</td>\n",
              "      <td>0.0</td>\n",
              "    </tr>\n",
              "    <tr>\n",
              "      <th>3</th>\n",
              "      <td>(46.0, 134.0, 310.0, 0.0, 126.0, 0.0, 0.0, 0.0...</td>\n",
              "      <td>1.0</td>\n",
              "      <td>[-0.0028049954364863794, 0.0028049954364863794]</td>\n",
              "      <td>[0.49929875160066356, 0.5007012483993365]</td>\n",
              "      <td>1.0</td>\n",
              "    </tr>\n",
              "    <tr>\n",
              "      <th>4</th>\n",
              "      <td>(50.0, 145.0, 264.0, 0.0, 150.0, 0.0, 0.0, 0.0...</td>\n",
              "      <td>1.0</td>\n",
              "      <td>[-0.11077090318199989, 0.11077090318199989]</td>\n",
              "      <td>[0.4723355557604901, 0.52766444423951]</td>\n",
              "      <td>1.0</td>\n",
              "    </tr>\n",
              "    <tr>\n",
              "      <th>5</th>\n",
              "      <td>(52.0, 120.0, 182.0, 0.0, 150.0, 0.0, 0.0, 0.0...</td>\n",
              "      <td>1.0</td>\n",
              "      <td>[-0.32602256731611456, 0.32602256731611456]</td>\n",
              "      <td>[0.41920870733709287, 0.5807912926629071]</td>\n",
              "      <td>1.0</td>\n",
              "    </tr>\n",
              "    <tr>\n",
              "      <th>6</th>\n",
              "      <td>(59.0, 130.0, 126.0, 0.0, 125.0, 0.0, 0.0, 0.0...</td>\n",
              "      <td>1.0</td>\n",
              "      <td>[-0.9722511110161218, 0.9722511110161218]</td>\n",
              "      <td>[0.274432035493144, 0.725567964506856]</td>\n",
              "      <td>1.0</td>\n",
              "    </tr>\n",
              "    <tr>\n",
              "      <th>7</th>\n",
              "      <td>(54.0, 140.0, 216.0, 0.0, 105.0, 1.5, 0.0, 0.0...</td>\n",
              "      <td>1.0</td>\n",
              "      <td>[-1.8132879750067972, 1.8132879750067972]</td>\n",
              "      <td>[0.14024121355857133, 0.8597587864414287]</td>\n",
              "      <td>1.0</td>\n",
              "    </tr>\n",
              "    <tr>\n",
              "      <th>8</th>\n",
              "      <td>(67.0, 120.0, 237.0, 0.0, 71.0, 1.0, 0.0, 0.0,...</td>\n",
              "      <td>1.0</td>\n",
              "      <td>[-1.911252617591412, 1.911252617591412]</td>\n",
              "      <td>[0.12884019247285325, 0.8711598075271467]</td>\n",
              "      <td>1.0</td>\n",
              "    </tr>\n",
              "    <tr>\n",
              "      <th>9</th>\n",
              "      <td>(58.0, 130.0, 197.0, 0.0, 131.0, 0.6, 1.0, 0.0...</td>\n",
              "      <td>0.0</td>\n",
              "      <td>[0.13848512881844244, -0.13848512881844244]</td>\n",
              "      <td>[0.5345660571566646, 0.4654339428433354]</td>\n",
              "      <td>0.0</td>\n",
              "    </tr>\n",
              "  </tbody>\n",
              "</table>\n",
              "</div>\n",
              "      <button class=\"colab-df-convert\" onclick=\"convertToInteractive('df-b93f46eb-1b38-40a3-812c-d02d6a4d7524')\"\n",
              "              title=\"Convert this dataframe to an interactive table.\"\n",
              "              style=\"display:none;\">\n",
              "        \n",
              "  <svg xmlns=\"http://www.w3.org/2000/svg\" height=\"24px\"viewBox=\"0 0 24 24\"\n",
              "       width=\"24px\">\n",
              "    <path d=\"M0 0h24v24H0V0z\" fill=\"none\"/>\n",
              "    <path d=\"M18.56 5.44l.94 2.06.94-2.06 2.06-.94-2.06-.94-.94-2.06-.94 2.06-2.06.94zm-11 1L8.5 8.5l.94-2.06 2.06-.94-2.06-.94L8.5 2.5l-.94 2.06-2.06.94zm10 10l.94 2.06.94-2.06 2.06-.94-2.06-.94-.94-2.06-.94 2.06-2.06.94z\"/><path d=\"M17.41 7.96l-1.37-1.37c-.4-.4-.92-.59-1.43-.59-.52 0-1.04.2-1.43.59L10.3 9.45l-7.72 7.72c-.78.78-.78 2.05 0 2.83L4 21.41c.39.39.9.59 1.41.59.51 0 1.02-.2 1.41-.59l7.78-7.78 2.81-2.81c.8-.78.8-2.07 0-2.86zM5.41 20L4 18.59l7.72-7.72 1.47 1.35L5.41 20z\"/>\n",
              "  </svg>\n",
              "      </button>\n",
              "      \n",
              "  <style>\n",
              "    .colab-df-container {\n",
              "      display:flex;\n",
              "      flex-wrap:wrap;\n",
              "      gap: 12px;\n",
              "    }\n",
              "\n",
              "    .colab-df-convert {\n",
              "      background-color: #E8F0FE;\n",
              "      border: none;\n",
              "      border-radius: 50%;\n",
              "      cursor: pointer;\n",
              "      display: none;\n",
              "      fill: #1967D2;\n",
              "      height: 32px;\n",
              "      padding: 0 0 0 0;\n",
              "      width: 32px;\n",
              "    }\n",
              "\n",
              "    .colab-df-convert:hover {\n",
              "      background-color: #E2EBFA;\n",
              "      box-shadow: 0px 1px 2px rgba(60, 64, 67, 0.3), 0px 1px 3px 1px rgba(60, 64, 67, 0.15);\n",
              "      fill: #174EA6;\n",
              "    }\n",
              "\n",
              "    [theme=dark] .colab-df-convert {\n",
              "      background-color: #3B4455;\n",
              "      fill: #D2E3FC;\n",
              "    }\n",
              "\n",
              "    [theme=dark] .colab-df-convert:hover {\n",
              "      background-color: #434B5C;\n",
              "      box-shadow: 0px 1px 3px 1px rgba(0, 0, 0, 0.15);\n",
              "      filter: drop-shadow(0px 1px 2px rgba(0, 0, 0, 0.3));\n",
              "      fill: #FFFFFF;\n",
              "    }\n",
              "  </style>\n",
              "\n",
              "      <script>\n",
              "        const buttonEl =\n",
              "          document.querySelector('#df-b93f46eb-1b38-40a3-812c-d02d6a4d7524 button.colab-df-convert');\n",
              "        buttonEl.style.display =\n",
              "          google.colab.kernel.accessAllowed ? 'block' : 'none';\n",
              "\n",
              "        async function convertToInteractive(key) {\n",
              "          const element = document.querySelector('#df-b93f46eb-1b38-40a3-812c-d02d6a4d7524');\n",
              "          const dataTable =\n",
              "            await google.colab.kernel.invokeFunction('convertToInteractive',\n",
              "                                                     [key], {});\n",
              "          if (!dataTable) return;\n",
              "\n",
              "          const docLinkHtml = 'Like what you see? Visit the ' +\n",
              "            '<a target=\"_blank\" href=https://colab.research.google.com/notebooks/data_table.ipynb>data table notebook</a>'\n",
              "            + ' to learn more about interactive tables.';\n",
              "          element.innerHTML = '';\n",
              "          dataTable['output_type'] = 'display_data';\n",
              "          await google.colab.output.renderOutput(dataTable, element);\n",
              "          const docLink = document.createElement('div');\n",
              "          docLink.innerHTML = docLinkHtml;\n",
              "          element.appendChild(docLink);\n",
              "        }\n",
              "      </script>\n",
              "    </div>\n",
              "  </div>\n",
              "  "
            ]
          },
          "metadata": {},
          "execution_count": 45
        }
      ]
    },
    {
      "cell_type": "code",
      "source": [
        "import pickle"
      ],
      "metadata": {
        "id": "nBYu1b_6fZvu"
      },
      "execution_count": 46,
      "outputs": []
    },
    {
      "cell_type": "code",
      "source": [
        "with open('lr.pkl', 'wb') as f:\n",
        "    pickle.dump(pic_model, f)"
      ],
      "metadata": {
        "id": "hmpq8KO2fbxF"
      },
      "execution_count": 47,
      "outputs": []
    },
    {
      "cell_type": "code",
      "source": [],
      "metadata": {
        "id": "ONK8cS02fg-Q"
      },
      "execution_count": null,
      "outputs": []
    }
  ]
}